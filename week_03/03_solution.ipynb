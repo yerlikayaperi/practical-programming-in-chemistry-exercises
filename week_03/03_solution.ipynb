{
 "cells": [
  {
   "cell_type": "markdown",
   "metadata": {},
   "source": [
    "# Recap: Week 1 + 2"
   ]
  },
  {
   "cell_type": "markdown",
   "metadata": {},
   "source": [
    "## Week 1: Python Data Types and Paths"
   ]
  },
  {
   "cell_type": "markdown",
   "metadata": {},
   "source": [
    "### Recap on Data Types\n",
    "\n",
    "* Python has several built-in data types:\n",
    "* Numeric: `int`, `float`\n",
    "* Sequence: `str`, `list`, `tuple`\n",
    "* Mapping: `dict`\n",
    "* Set: `set`\n",
    "* Boolean: `bool`"
   ]
  },
  {
   "cell_type": "markdown",
   "metadata": {},
   "source": [
    "### Numeric Data Types"
   ]
  },
  {
   "cell_type": "code",
   "execution_count": null,
   "metadata": {},
   "outputs": [],
   "source": [
    "# Integers and floats\n",
    "int_example = 3\n",
    "float_example = 3.14\n",
    "\n",
    "## Sequence Data Types\n",
    "# Strings, lists, and tuples\n",
    "str_example = \"Hello, Python!\"\n",
    "list_example = [1, 2, 3]\n",
    "tuple_example = (\"a\", \"b\", \"c\")\n",
    "\n",
    "# Indexing and slicing\n",
    "print(list_example[0])  # First element of list\n",
    "print(str_example[-1])  # Last character of string\n",
    "print(tuple_example[1:])  # Slicing tuple from second element to end\n"
   ]
  },
  {
   "cell_type": "markdown",
   "metadata": {},
   "source": [
    "## Week 2: Lists, Dictionaries, Loops, and Iterations"
   ]
  },
  {
   "cell_type": "markdown",
   "metadata": {},
   "source": [
    "### Lists and Dictionaries"
   ]
  },
  {
   "cell_type": "code",
   "execution_count": null,
   "metadata": {},
   "outputs": [],
   "source": [
    "# Adding and accessing elements\n",
    "list_example.append(4)  # Adding an element to a list\n",
    "dict_example = {\"key1\": \"value1\", \"key2\": \"value2\"}\n",
    "print(dict_example[\"key1\"])  # Accessing a value from a dictionary\n",
    "\n",
    "## Loops and Iterations\n",
    "# For loop with a list\n",
    "for item in list_example:\n",
    "    print(item)\n"
   ]
  },
  {
   "cell_type": "code",
   "execution_count": null,
   "metadata": {},
   "outputs": [],
   "source": [
    "# While loop example\n",
    "print(\"While loop...\")\n",
    "i = 0\n",
    "while i < len(list_example):\n",
    "    print(list_example[i])\n",
    "    i += 1\n",
    "\n",
    "# Or equivalently in a for loop\n",
    "print(\"For loop...\")\n",
    "for element in list_example:\n",
    "    print(element)"
   ]
  },
  {
   "cell_type": "code",
   "execution_count": null,
   "metadata": {},
   "outputs": [],
   "source": [
    "# Boolean variables and conditional statements\n",
    "a = True\n",
    "b = False\n",
    "if a and b:\n",
    "    print(\"Both are true\")\n",
    "elif a or b:\n",
    "    print(\"At least one is true\")  # this will be printed!\n",
    "else:\n",
    "    print(\"Neither is true\")"
   ]
  },
  {
   "cell_type": "markdown",
   "metadata": {},
   "source": [
    "# Week 3\n",
    "\n",
    "With the recap out of the way, welcome to week 3! \n",
    "\n",
    "In this exercise, we will learn how to:\n",
    "\n",
    "1. **write and read files** using what we learn previously about paths and file objects,\n",
    "1. **use functions** as a re-usable way to perform specific tasks,\n",
    "1. perform **error handling** for gracefully and descriptively dealing with errors in code,\n",
    "1. and finally **build classes** as a way to demonstrate object-oriented programming,"
   ]
  },
  {
   "cell_type": "markdown",
   "metadata": {},
   "source": [
    "## 1. Writing and reading files\n",
    "\n",
    "First, let's define a `Path` object using the `pathlib` module, as we did last week.\n",
    "Let's try to read the contents of the file, if it exists, or print a message if it\n",
    "doesn't. \n",
    "\n",
    "We can do this with a conditional statement, using the **`exists()`** method of\n",
    "the `Path` object that we store in the variable `file_path`.\n",
    "\n",
    "As we are defining the `Path` object to a file that doesn't yet exist, the following\n",
    "cell should print a message telling us this!"
   ]
  },
  {
   "cell_type": "code",
   "execution_count": null,
   "metadata": {},
   "outputs": [],
   "source": [
    "from pathlib import Path\n",
    "\n",
    "# Create a Path object for the current directory\n",
    "current_directory = Path.cwd()\n",
    "print(\"Current Directory:\", current_directory.resolve())\n",
    "\n",
    "# Creating a Path object for an example file that does not yet exist\n",
    "example_file_path = current_directory / \"example.txt\"\n",
    "\n",
    "# Reading the contents of the file\n",
    "if example_file_path.exists():\n",
    "    with example_file_path.open(\"r\") as file:\n",
    "        content = file.read()\n",
    "        print(content)\n",
    "else:\n",
    "    print(\"The file does not exist.\")"
   ]
  },
  {
   "cell_type": "markdown",
   "metadata": {},
   "source": [
    "Now let's create the file and try run the code again. Before running the cell, think\n",
    "about the expected output."
   ]
  },
  {
   "cell_type": "code",
   "execution_count": null,
   "metadata": {},
   "outputs": [],
   "source": [
    "example_file_path.touch()\n",
    "\n",
    "# Reading the contents of the file\n",
    "if example_file_path.exists():\n",
    "    with example_file_path.open(\"r\") as file:\n",
    "        content = file.read()\n",
    "        print(content)\n",
    "else:\n",
    "    print(\"The file does not exist.\")"
   ]
  },
  {
   "cell_type": "markdown",
   "metadata": {},
   "source": [
    "What was the output of the above cell and why?\n",
    "\n",
    "We created the file using the **`touch()`** method. It exists, but there is no content. Maybe this code would be more useful:"
   ]
  },
  {
   "cell_type": "code",
   "execution_count": null,
   "metadata": {},
   "outputs": [],
   "source": [
    "# Reading the contents of the file\n",
    "if example_file_path.exists():\n",
    "    with example_file_path.open(\"r\") as file:\n",
    "        content = file.read()\n",
    "        if len(content) == 0:\n",
    "            print(\"File exists but is empty.\")\n",
    "        else:\n",
    "            print(content)\n",
    "else:\n",
    "    print(\"The file does not exist.\")"
   ]
  },
  {
   "cell_type": "markdown",
   "metadata": {},
   "source": [
    "Now let's write something to file, and make it interesting. For the molecule that you\n",
    "chose to upload to your GitHub repository for the week 1 milestones, go to wikipedia and\n",
    "copy the first sentence in its description.\n",
    "\n",
    "For instance, the first sentence on https://en.wikipedia.org/wiki/Caffeine\n",
    "is: \"Caffeine is a central nervous system (CNS) stimulant of the methylxanthine class.\"\n",
    "\n",
    "Paste this into the string variable `molecule_description` below, along with the molecule\n",
    "name and the URL of image you uploaded to your GitHub page. "
   ]
  },
  {
   "cell_type": "code",
   "execution_count": null,
   "metadata": {},
   "outputs": [],
   "source": [
    "molecule_name = \"NanoPutian Chain\"\n",
    "molecule_image_url = \"https://github.com/jwa7/ppchem/blob/main/nanoputian_chain.png\"\n",
    "molecule_description = \"NanoPutians are a series of organic molecules whose structural formulae resemble human forms.\""
   ]
  },
  {
   "cell_type": "markdown",
   "metadata": {},
   "source": [
    "Now we can write this to file. Let's create a new `Path` object in the variable\n",
    "`molecule_info_path` and write the description here."
   ]
  },
  {
   "cell_type": "code",
   "execution_count": null,
   "metadata": {},
   "outputs": [],
   "source": [
    "# Define path\n",
    "molecule_info_path = current_directory / \"molecule_info.txt\"\n",
    "\n",
    "# Create file\n",
    "molecule_info_path.touch()\n",
    "\n",
    "# Write to file\n",
    "with molecule_info_path.open(\"w\") as file:\n",
    "    file.write(\n",
    "        f\"Molecule: {molecule_name}\\n\"\n",
    "        f\"Image URL: {molecule_image_url}\\n\"\n",
    "        f\"Description: {molecule_description}\"\n",
    "    )"
   ]
  },
  {
   "cell_type": "markdown",
   "metadata": {},
   "source": [
    "Great! Now let's run the code block from above to check whether the file exists, and if\n",
    "it does, read and print the contents."
   ]
  },
  {
   "cell_type": "code",
   "execution_count": null,
   "metadata": {},
   "outputs": [],
   "source": [
    "# Reading the contents of the file\n",
    "if example_file_path.exists():\n",
    "    with example_file_path.open(\"r\") as file:\n",
    "        content = file.read()\n",
    "        if len(content) == 0:\n",
    "            print(\"File exists but is empty.\")\n",
    "        else:\n",
    "            print(content)\n",
    "else:\n",
    "    print(\"The file does not exist.\")"
   ]
  },
  {
   "cell_type": "markdown",
   "metadata": {},
   "source": [
    "Huh? Why does it tell us that the file empty? Have a think why, then carry on to the next section."
   ]
  },
  {
   "cell_type": "markdown",
   "metadata": {},
   "source": [
    "## 2. Functions!\n",
    "\n",
    "So, why did the the above cell block tell us that the file was empty?\n",
    "\n",
    "The reason is that we were checking the existence of the file object stored in the\n",
    "variable `example_file_path`, which points to the file \"example.txt\", not the one we just\n",
    "created, i.e. \"molecule_info.txt\", whose path is stored in the `molecule_info_path`\n",
    "variable.\n",
    "\n",
    "If you scroll up, you'll notice that we copy-and-pasted the code block multiple times.\n",
    "\n",
    "**Programming tip: when you find yourself copy-paste-reusing code, alarm bells should go\n",
    "off!** \n",
    "\n",
    "Surely there is a better, more general way to do this?\n",
    "\n",
    "And yes there is - use functions! What if we wrote a function that took as input a generic\n",
    "file path, checked its existence, and printed its contents? We could then re-use this\n",
    "whenever we want for different file paths, just by passing different input arguments.\n",
    "\n",
    "See below for how this is done:"
   ]
  },
  {
   "cell_type": "code",
   "execution_count": null,
   "metadata": {},
   "outputs": [],
   "source": [
    "def check_file_existence_and_read_contents(file_path_object: Path):\n",
    "    \"\"\"\n",
    "    Checks the existence of the file whose path is pointed to in the input variable\n",
    "    `file_path_object`. \n",
    "    \n",
    "    If it exists and is empty, prints \"File exists but is empty. If it exists and is not\n",
    "    empty, prints the contents of the file. If it doesn't exist, prints \"The file does\n",
    "    not exist.\"\n",
    "\n",
    "    :param file_path_object: the `pathlib.Path` object pointing to the absolute path of\n",
    "        the file to be checked and read.\n",
    "    \"\"\"\n",
    "    if file_path_object.exists():  # exists\n",
    "\n",
    "        # 'with' is what's known as acontext manager. It keeps the file open while we\n",
    "        # are running code inside the `with` block, but closes it when leaving the code\n",
    "        # block.\n",
    "        with file_path_object.open(\"r\") as file:\n",
    "            content = file.read()  # read contents of the file\n",
    "\n",
    "            if len(content) == 0:  # empty\n",
    "                print(\"File exists but is empty.\")\n",
    "\n",
    "            else:  # not empty\n",
    "                print(content)\n",
    "\n",
    "    else:  # doesn't exist\n",
    "        print(\"The file does not exist.\")"
   ]
  },
  {
   "cell_type": "markdown",
   "metadata": {},
   "source": [
    "Now let's use this function of each of our `Path` objects, stored in variables\n",
    "`example_file_path` and `molecule_info_path`."
   ]
  },
  {
   "cell_type": "code",
   "execution_count": null,
   "metadata": {},
   "outputs": [],
   "source": [
    "check_file_existence_and_read_contents(example_file_path)  # calls the function"
   ]
  },
  {
   "cell_type": "code",
   "execution_count": null,
   "metadata": {},
   "outputs": [],
   "source": [
    "check_file_existence_and_read_contents(molecule_info_path)  # calls the function"
   ]
  },
  {
   "cell_type": "markdown",
   "metadata": {},
   "source": [
    "Now let's get a bit more chemical. Below is an example function shown in Philippe's\n",
    "slides from lecture 2 (slide 37). It calculates the percentage reaction yield given two\n",
    "input variables, corresponding to the theoretical and actual yield.\n",
    "\n",
    "The inputs to the function (`theoretical_yield` and `actual_yield`) are called\n",
    "*arguments*, and the output of the function (`percent_yield`) is the *return* value."
   ]
  },
  {
   "cell_type": "code",
   "execution_count": null,
   "metadata": {},
   "outputs": [],
   "source": [
    "def reaction_yield(theoretical_yield, actual_yield):\n",
    "    \"\"\"\n",
    "    Calculate the percent yield of a reaction.\n",
    "    theoretical_yield: Theoretical yield in grams\n",
    "    actual_yield: Actual yield obtained from the reaction in grams\n",
    "    Returns the percent yield as a percentage.\n",
    "    \"\"\"\n",
    "    percent_yield = (actual_yield / theoretical_yield) * 100\n",
    "    return percent_yield"
   ]
  },
  {
   "cell_type": "code",
   "execution_count": null,
   "metadata": {},
   "outputs": [],
   "source": [
    "# Example usage:\n",
    "yield_percent = reaction_yield(10.0, 8.5)\n",
    "print(f\"Experimental yield: {yield_percent} %\")"
   ]
  },
  {
   "cell_type": "markdown",
   "metadata": {},
   "source": [
    "What's going to happen if we pass non-physical inputs to the function?\n",
    "\n",
    "For instance, a negative yield, or an actual yield that is higher than the theoretical yield?"
   ]
  },
  {
   "cell_type": "code",
   "execution_count": null,
   "metadata": {},
   "outputs": [],
   "source": [
    "yield_percent = reaction_yield(-10.0, 8.5)\n",
    "print(f\"Experimental yield: {yield_percent} %\")"
   ]
  },
  {
   "cell_type": "code",
   "execution_count": null,
   "metadata": {},
   "outputs": [],
   "source": [
    "yield_percent = reaction_yield(theoretical_yield=10.0, actual_yield=12345)\n",
    "print(f\"Experimental yield: {yield_percent} %\")"
   ]
  },
  {
   "cell_type": "markdown",
   "metadata": {},
   "source": [
    "Or how about if we pass an incorrect ***data type*** to the function?"
   ]
  },
  {
   "cell_type": "code",
   "execution_count": null,
   "metadata": {},
   "outputs": [],
   "source": [
    "yield_percent = reaction_yield(\"I never took chemistry\", 101)  # passing a string and an integer\n",
    "print(f\"Experimental yield: {yield_percent} %\")"
   ]
  },
  {
   "cell_type": "markdown",
   "metadata": {},
   "source": [
    "Perhaps we can design our function to check the inputs and provide more insightful error\n",
    "messages. This can improve the usability of our function for others, and for ourselves."
   ]
  },
  {
   "cell_type": "markdown",
   "metadata": {},
   "source": [
    "## Take a moment to think about design...\n",
    "\n",
    "Writing good code means building things that are easy for a human to read, understand,\n",
    "and use, as well as being efficient for a computer to run.\n",
    "\n",
    "There is **always** a balance between getting the job done and writing the perfect code.\n",
    "We don't want to over-engineer things, or spend un-necessary time making things *too*\n",
    "perfect. However, spending 20% longer on considering some design details will in the\n",
    "long run save you time, when you revisit your code in 1 month / 1 year / 1 decade, and\n",
    "others time too when they want to read and use your code. Practice writing well designed\n",
    "functions, and this will translate into well designed classes, modules, packages,\n",
    "software for research projects, commercial products etc etc...\n",
    "\n",
    "So, in this spirit, let's add two things to the above function, with the result below.\n",
    "\n",
    "### a) Type hints\n",
    "\n",
    "These tell the user in an easy-to-read way what the expected data types of the inputs\n",
    "are, i.e. `actual_yield: float`, and what the output data type is, i.e. `...) ->\n",
    "float:`. As well as forming part of the ***documentation*** of a function, they can be\n",
    "used in conjunction with type-checkers that will raise warnings if types are not used as\n",
    "intended.\n",
    "\n",
    "Python is what is known as an ***interpreted*** language, as opposed to other languages\n",
    "such as `C` and `Fortran` that are ***compiled*** languages. In short, this means that\n",
    "Python determines the types of variables ***dynamically***, i.e. when the code is run.\n",
    "Errors caused by improper use of variable types are therefore not known until runtime.\n",
    "We saw this above with the error: ``TypeError: unsupported operand type(s) for /: 'int'\n",
    "and 'str'``. By contrast, for compiled languages, in general all variables are\n",
    "***typed***. These types are checked when the code is ***compiled***, prior to runtime.\n",
    "This ensures type errors are avoided.\n",
    "\n",
    "Knowing the types of variables is useful, both for the human and the computer! In\n",
    "this exercise, however, we will just focus on the former: better documenting our\n",
    "functions for the human user.\n",
    "\n",
    "### b) Input checks\n",
    "\n",
    "When our code is run, it would be useful to perform some checks on the inputs to the\n",
    "function. If something if a check fails, we can return a descriptive error message to\n",
    "the user.\n",
    "\n",
    "In this case, we have modified the function to check that the user passes `float` types\n",
    "as input. It does so using the `isinstance` function. It also checks that they are\n",
    "non-negative, and that the theoretical yield is not less than the actual yield. In the\n",
    "case that any of these checks fails, an error is raised with a descriptive message that\n",
    "tells the user exactly what is wrong. \n",
    "\n",
    "Inspect the function so you understand how this is done. Write a descriptive error\n",
    "message to the check between the relationship between the actual yield and theoretical\n",
    "yield."
   ]
  },
  {
   "cell_type": "code",
   "execution_count": null,
   "metadata": {},
   "outputs": [],
   "source": [
    "def reaction_yield(theoretical_yield: float, actual_yield: float) -> float:\n",
    "    \"\"\"\n",
    "    Calculates the percent yield of a reaction.\n",
    "\n",
    "    :param theoretical_yield: float, the theoretical yield of the reaction, in grams.\n",
    "    :param actual_yield: float, the actual yield obtained from the reaction, in grams.\n",
    "    \n",
    "    :return: float, the yield of the reaction as a percentage.\n",
    "    \"\"\"\n",
    "    # Type checks: input yields should be passed as floats\n",
    "    if not isinstance(theoretical_yield, float):\n",
    "        raise TypeError(\n",
    "            f\"Invalid type {type(theoretical_yield)}: `theoretical_yield`\"\n",
    "            \" should be passed as a float.\"\n",
    "        )\n",
    "    if not isinstance(actual_yield, float):\n",
    "        raise TypeError(\n",
    "            f\"Invalid type {type(actual_yield)}: `actual_yield`\"\n",
    "            \" should be passed as a float.\"\n",
    "        )\n",
    "\n",
    "    # Input value checks\n",
    "    if theoretical_yield < 0 or actual_yield < 0:  # yields should be non-negative\n",
    "        raise ValueError(\"Input yields must be a non-negative float\")\n",
    "\n",
    "    if actual_yield > theoretical_yield:  # actual yield can't be more than the theoretical\n",
    "        raise ValueError(\"Actual yield cannot be more than the theoretical yield\")\n",
    "\n",
    "    # Calculate the yield and return\n",
    "    percent_yield = (actual_yield / theoretical_yield) * 100\n",
    "    return percent_yield"
   ]
  },
  {
   "cell_type": "markdown",
   "metadata": {},
   "source": [
    "Let's re-run the erroneous examples from above and observe the error messages"
   ]
  },
  {
   "cell_type": "code",
   "execution_count": null,
   "metadata": {},
   "outputs": [],
   "source": [
    "# This does (and should) raise an error!\n",
    "yield_percent = reaction_yield(-10.0, 8.5)\n",
    "print(f\"Experimental yield: {yield_percent} %\")"
   ]
  },
  {
   "cell_type": "code",
   "execution_count": null,
   "metadata": {},
   "outputs": [],
   "source": [
    "# This gives a much nicer error message than: \"TypeError: unsupported operand type(s) for /: 'int' and 'str'\"\n",
    "yield_percent = reaction_yield(\"I never took chemistry\", 101)\n",
    "print(f\"Experimental yield: {yield_percent} %\")"
   ]
  },
  {
   "cell_type": "markdown",
   "metadata": {},
   "source": [
    "What if we pass two integers as input to the function?"
   ]
  },
  {
   "cell_type": "code",
   "execution_count": null,
   "metadata": {},
   "outputs": [],
   "source": [
    "yield_percent = reaction_yield(25, 5)  # error!\n",
    "print(f\"Experimental yield: {yield_percent} %\")"
   ]
  },
  {
   "cell_type": "markdown",
   "metadata": {},
   "source": [
    "And how about passing strings that maybe seem like a reasonable input?"
   ]
  },
  {
   "cell_type": "code",
   "execution_count": null,
   "metadata": {},
   "outputs": [],
   "source": [
    "yield_percent = reaction_yield(\"25\", \"5\")  # error!\n",
    "print(f\"Experimental yield: {yield_percent} %\")"
   ]
  },
  {
   "cell_type": "markdown",
   "metadata": {},
   "source": [
    "In both cases, maybe we'd hope that the inputs could be interpreted as floats. Maybe a\n",
    "good design choice would be to internally try to convert the arguments as floats, and\n",
    "raise an error if this is not possible.\n",
    "\n",
    "To do this, we need to learn about type conversion, which will in turn teach us\n",
    "something about ***error handling***."
   ]
  },
  {
   "cell_type": "markdown",
   "metadata": {},
   "source": [
    "## 3. Error Handling\n",
    "\n"
   ]
  },
  {
   "cell_type": "markdown",
   "metadata": {},
   "source": [
    "### Type conversion or \"casting\"\n",
    "\n",
    "Type conversion in Python, also known as type casting, is the process of converting the\n",
    "value of one data type (integer, string, float, etc.) into another. This process is\n",
    "often necessary in programming because certain operations require variables to be of a\n",
    "specific data type. Python provides several built-in functions for converting types,\n",
    "including int(), float(), and str(), among others.\n",
    "\n",
    "**Why Use Type Conversion?**\n",
    "\n",
    "* Compatibility: Some operations require operands to be of the same type. For instance, you cannot directly concatenate a string and an integer without converting the integer into a string.\n",
    "* Processing: Data might be read as strings from a file or user input, but you may need to perform arithmetic operations on them, requiring conversion to numeric types.\n",
    "* Control: Explicit type conversion lets you control how Python interprets and uses the data in your programs.\n",
    "\n",
    "You saw this in exercise 1, where we type-casted a str to an `int` in order to perform\n",
    "an addition:"
   ]
  },
  {
   "cell_type": "code",
   "execution_count": null,
   "metadata": {},
   "outputs": [],
   "source": [
    "a = 5\n",
    "b = \"6\"\n",
    "print(a + int(b))  # 11"
   ]
  },
  {
   "cell_type": "markdown",
   "metadata": {},
   "source": [
    "Whereas if we try and add together the `int` and `str`, we get an error:"
   ]
  },
  {
   "cell_type": "code",
   "execution_count": null,
   "metadata": {},
   "outputs": [],
   "source": [
    "a = 5\n",
    "b = \"6\"\n",
    "print(a + b)  # TypeError"
   ]
  },
  {
   "cell_type": "markdown",
   "metadata": {},
   "source": [
    "How can we handle different types as best we can, while providing meaningful error\n",
    "messages?\n",
    "\n",
    "First, write a function called `add_5` that takes an argument `number` (a `float`) and\n",
    "returns an `float`. Add argument and return type hints to the function signature (i.e.\n",
    "the `def ...` line), and write a short but descriptive docstring."
   ]
  },
  {
   "cell_type": "code",
   "execution_count": null,
   "metadata": {},
   "outputs": [],
   "source": [
    "def add_five(number: int) -> int:\n",
    "    \"\"\"Adds 5 to `number` and returns the result\"\"\"\n",
    "    return 5 + number"
   ]
  },
  {
   "cell_type": "markdown",
   "metadata": {},
   "source": [
    "Let's observe what happens in certain situations:"
   ]
  },
  {
   "cell_type": "code",
   "execution_count": null,
   "metadata": {},
   "outputs": [],
   "source": [
    "# Passing an int --> expected behaviour. Integer 11 returned\n",
    "add_five(6)"
   ]
  },
  {
   "cell_type": "code",
   "execution_count": null,
   "metadata": {},
   "outputs": [],
   "source": [
    "# Passing a str --> TypeError\n",
    "add_five(\"6\")"
   ]
  },
  {
   "cell_type": "code",
   "execution_count": null,
   "metadata": {},
   "outputs": [],
   "source": [
    "# Passing a float --> no error, but returns a float not an int\n",
    "result = add_five(6.0)\n",
    "print(result)\n",
    "print(type(result))"
   ]
  },
  {
   "cell_type": "markdown",
   "metadata": {},
   "source": [
    "In the latter case, detects that the addition of an `int` and a `float` is happening, so\n",
    "automatically casts the `int` to a `float` to perform the operation. Returned is\n",
    "therefore a number of type `float`.\n",
    "\n",
    "What if we didn't want this to happen - i.e. if we always wanted to return an int?\n",
    "\n",
    "Well, we could cast the output to an int, like this:"
   ]
  },
  {
   "cell_type": "code",
   "execution_count": null,
   "metadata": {},
   "outputs": [],
   "source": [
    "def add_five(number: int) -> int:\n",
    "    \"\"\"Adds 5 to `number` and returns the result\"\"\"\n",
    "    return int(5 + number)"
   ]
  },
  {
   "cell_type": "code",
   "execution_count": null,
   "metadata": {},
   "outputs": [],
   "source": [
    "# Passing a float --> no error, but returns a float not an int\n",
    "result = add_five(6.0)\n",
    "print(result)\n",
    "print(type(result))"
   ]
  },
  {
   "cell_type": "markdown",
   "metadata": {},
   "source": [
    "Alternatively we could cast the input arguments. At the start of the function body,\n",
    "let's try to cast the input argument number to an `int`, then use it in the operation:"
   ]
  },
  {
   "cell_type": "code",
   "execution_count": null,
   "metadata": {},
   "outputs": [],
   "source": [
    "def add_five(number: int) -> int:\n",
    "    \"\"\"Adds 5 to `number` and returns the result\"\"\"\n",
    "    number = int(number)\n",
    "    return 5 + number"
   ]
  },
  {
   "cell_type": "markdown",
   "metadata": {},
   "source": [
    "This works now if we pass castable `str` and `int`..."
   ]
  },
  {
   "cell_type": "code",
   "execution_count": null,
   "metadata": {},
   "outputs": [],
   "source": [
    "# Passing a float --> returns an int\n",
    "result = add_five(\"6\")\n",
    "print(result)\n",
    "print(type(result))"
   ]
  },
  {
   "cell_type": "code",
   "execution_count": null,
   "metadata": {},
   "outputs": [],
   "source": [
    "# Passing a float --> returns an int\n",
    "result = add_five(6.0)\n",
    "print(result)\n",
    "print(type(result))"
   ]
  },
  {
   "cell_type": "markdown",
   "metadata": {},
   "source": [
    "... but still doesn't raise a helpful error message when we try and pass an invalid\n",
    "argument, i.e. in this case a non-castable string:"
   ]
  },
  {
   "cell_type": "code",
   "execution_count": null,
   "metadata": {},
   "outputs": [],
   "source": [
    "add_five(\"hello\")"
   ]
  },
  {
   "cell_type": "markdown",
   "metadata": {},
   "source": [
    "We can use a `try/except` block to handle this. This is a way of 'attempting' to\n",
    "execute, but ***catching*** the error (otherwise known as an ***exception***) in the\n",
    "case that it was raised. \n",
    "\n",
    "By placing `number = int(number)` within a `try` block, we attempt to cast the input\n",
    "argument to an `int`, but if a `ValueError` is raised, the `except` block is executed,\n",
    "where we can raise a meaningful error message."
   ]
  },
  {
   "cell_type": "code",
   "execution_count": null,
   "metadata": {},
   "outputs": [],
   "source": [
    "def add_five(number: int) -> int:\n",
    "    \"\"\"Adds 5 to `number` and returns the result\"\"\"\n",
    "    \n",
    "    try:   # program attempts to execute this code\n",
    "        number = int(number)\n",
    "\n",
    "    except ValueError:     # unless there's an ValueError: catch it...\n",
    "        raise ValueError(  # ... and raise a new ValueError with a meaningful message\n",
    "            f\"Invalid input argument: '{number}'.\"\n",
    "            \" `number` must be an int, or convertible to an int.\"\n",
    "            f\" Original error message: {e}\"\n",
    "        )\n",
    "    \n",
    "    return 5 + number"
   ]
  },
  {
   "cell_type": "code",
   "execution_count": null,
   "metadata": {},
   "outputs": [],
   "source": [
    "# More meaningful error message raised\n",
    "add_five(\"hello\")"
   ]
  },
  {
   "cell_type": "markdown",
   "metadata": {},
   "source": [
    "Now we return to our `reaction_yield` function from before. In this function, we want\n",
    "the user to pass the input arguments as floats. However, in the case that they don't, we\n",
    "want to attempt to cast/convert the inputs to floats. If this fails, we want to raise a\n",
    "meaningful error message telling them what's wrong."
   ]
  },
  {
   "cell_type": "code",
   "execution_count": null,
   "metadata": {},
   "outputs": [],
   "source": [
    "def reaction_yield(theoretical_yield: float, actual_yield: float) -> float:\n",
    "    \"\"\"\n",
    "    Calculates the percent yield of a reaction.\n",
    "\n",
    "    :param theoretical_yield: float, the theoretical yield of the reaction, in grams.\n",
    "    :param actual_yield: float, the actual yield obtained from the reaction, in grams.\n",
    "    \n",
    "    :return: float, the yield of the reaction as a percentage.\n",
    "    \"\"\"\n",
    "    # Type checks: input yields should be passed as floats. If not, attempt to convert\n",
    "    # them to a float. If this fails, raise an error.\n",
    "    if not isinstance(theoretical_yield, float):\n",
    "        try:  \n",
    "            theoretical_yield = float(theoretical_yield)\n",
    "        except ValueError as e:\n",
    "            raise ValueError(\n",
    "                f\"Invalid input '{theoretical_yield}': `theoretical_yield`\"\n",
    "                \" should be passed as a float, or be convertible to a float.\"\n",
    "                f\" Original error: {e}\"\n",
    "            )\n",
    "\n",
    "    if not isinstance(actual_yield, float):\n",
    "        try:\n",
    "            actual_yield = float(actual_yield)\n",
    "        except ValueError as e:\n",
    "            raise ValueError(\n",
    "                f\"Invalid input '{actual_yield}': `actual_yield`\"\n",
    "                \" should be passed as a float, or be convertible to a float.\"\n",
    "                f\" Original error: {e}\"\n",
    "            )\n",
    "\n",
    "    # Input value checks\n",
    "    if theoretical_yield < 0 or actual_yield < 0:  # yields should be non-negative\n",
    "        raise ValueError(\"Input yields must be a non-negative float\")\n",
    "\n",
    "    if actual_yield > theoretical_yield:  # actual yield can't be more than the theoretical\n",
    "        raise ValueError(\"Actual yield cannot be more than the theoretical yield\")\n",
    "\n",
    "    # Calculate the yield and return\n",
    "    percent_yield = (actual_yield / theoretical_yield) * 100\n",
    "\n",
    "    return percent_yield"
   ]
  },
  {
   "cell_type": "code",
   "execution_count": null,
   "metadata": {},
   "outputs": [],
   "source": [
    "# Now if we run with strings that are convertible to floats, the function works!\n",
    "reaction_yield(\"80\", \"70\")"
   ]
  },
  {
   "cell_type": "code",
   "execution_count": null,
   "metadata": {},
   "outputs": [],
   "source": [
    "# But if they are non-convertible, we get a nicer error message\n",
    "reaction_yield(4.0, \"hello\")"
   ]
  },
  {
   "cell_type": "markdown",
   "metadata": {},
   "source": [
    "## Problem: bringing together loops, file reading, casting, and error handling\n",
    "\n",
    "Now we'll try an example. Below is some code that reads a series of pairs of values from\n",
    "a data file called \"reaction_yields.txt\". Open and inspect the file.\n",
    "\n",
    "The first row is the header, which tells us what is in each column. It starts with '#',\n",
    "so should be treated as a comment line and not as a data line. Each subsequent row\n",
    "contains 3 values, in order: the name of the scientist who conducted the experiment, the\n",
    "theoretical yield in grams, and the actual reaction yield in grams.\n",
    "\n",
    "The following code parses the file to extract the data, and calculates the percentage\n",
    "yield. It then prints the results."
   ]
  },
  {
   "cell_type": "code",
   "execution_count": null,
   "metadata": {},
   "outputs": [],
   "source": [
    "# Define the path object for the file and check that it exists\n",
    "reaction_yield_file = current_directory / \"reaction_yields.txt\"\n",
    "assert reaction_yield_file.exists()\n",
    "\n",
    "# Open the file\n",
    "with reaction_yield_file.open(\"r\") as file:  # \"r\" is read-mode\n",
    "\n",
    "    # Read the file and convert to a list, where each element in the list is a str\n",
    "    # containing each line.\n",
    "    lines = file.read().splitlines()  \n",
    "\n",
    "    for line_i, line in enumerate(lines):\n",
    "        print(f\"Line number: {line_i}\")\n",
    "        print(f\"    Line read from file: {line}\")\n",
    "\n",
    "        if line.startswith(\"#\"):\n",
    "            print(\"    Comment line, not extracting data\\n\")\n",
    "        else:\n",
    "            print(\"    Data line, extracting data\")\n",
    "\n",
    "            # Extract the values on each row by further splitting the line\n",
    "            line_data = line.split()\n",
    "            print(f\"    Data on line: {line_data}\")\n",
    "\n",
    "            # Unpack the values in the list\n",
    "            assert len(line_data) == 3\n",
    "            name, theoretical, actual = line_data\n",
    "            print(f\"    Data types: {[type(d) for d in line_data]}\")\n",
    "\n",
    "            # Calculate the percent yield and print the results\n",
    "            percent_yield = reaction_yield(theoretical, actual)  # call our function!\n",
    "            print(f\"    Scientist: {name}, reaction yield (%): {percent_yield}\\n\")\n"
   ]
  },
  {
   "cell_type": "markdown",
   "metadata": {},
   "source": [
    "Notice that the types of the data from each line in the file were of `str` type, but our\n",
    "function was still able to handle this by converting to a `float` and calcualting the\n",
    "percent yield.\n",
    "\n",
    "Now suppose the data in the file contains errors, i.e. non-physical values or invalid\n",
    "(i.e. non-castable) values. Your job is to take the above code and modify it to handle\n",
    "such cases, allowing the whole file to be read without the code erroring out.\n",
    "\n",
    "In the cases where the data is invalid for the `reaction_yield` function, your code\n",
    "should print the error message and carry on to the next line in the file. For this,\n",
    "you'll need to use a `try/except` block to catch and handle the errors when calling the\n",
    "`reaction_yield` function.\n",
    "\n",
    "Some step-by-step hints (remember: the solution is provided, but try to get there on\n",
    "your own first):\n",
    "\n",
    "1. First, change the filename pointed to by the variable `reaction_yield_file` to\n",
    "   \"reaction_yields_with_errors.txt\".\n",
    "2. Run the code and see what happens. When is the error raised, what kind of exception\n",
    "   is it, and why is it raised?\n",
    "3. Use a `try/except` block to catch the error and print the message."
   ]
  },
  {
   "cell_type": "code",
   "execution_count": null,
   "metadata": {},
   "outputs": [],
   "source": [
    "# Define the path object for the file and check that it exists\n",
    "reaction_yield_file = current_directory / \"reaction_yields_with_errors.txt\"\n",
    "assert reaction_yield_file.exists()\n",
    "\n",
    "# Open the file\n",
    "with reaction_yield_file.open(\"r\") as file:  # \"r\" is read-mode\n",
    "\n",
    "    # Read the file and convert to a list, where each element in the list is a str\n",
    "    # containing each line.\n",
    "    lines = file.read().splitlines()  \n",
    "\n",
    "    for line_i, line in enumerate(lines):\n",
    "        print(f\"Line number: {line_i}\")\n",
    "        print(f\"    Line read from file: {line}\")\n",
    "\n",
    "        if line.startswith(\"#\"):\n",
    "            print(\"    Comment line, not extracting data\\n\")\n",
    "        else:\n",
    "            print(\"    Data line, extracting data\")\n",
    "\n",
    "            # Extract the values on each row by further splitting the line\n",
    "            line_data = line.split()\n",
    "            print(f\"    Data on line: {line_data}\")\n",
    "\n",
    "            # Unpack the values in the list\n",
    "            assert len(line_data) == 3\n",
    "            name, theoretical, actual = line_data\n",
    "            print(f\"    Data types: {[type(d) for d in line_data]}\")\n",
    "\n",
    "            # Calculate the percent yield and print the results\n",
    "            try:\n",
    "                percent_yield = reaction_yield(theoretical, actual)  # call our function!\n",
    "                print(f\"    Scientist: {name}, reaction yield (%): {percent_yield}\\n\")\n",
    "            except ValueError as e:\n",
    "                print(f\"    ERROR: {e}\\n\")"
   ]
  },
  {
   "cell_type": "markdown",
   "metadata": {},
   "source": [
    "# 4. Classes and objects\n",
    "\n",
    "Above, we mostly used `functions` to help us write programs that performed a certain\n",
    "task. `classes`, the building block of `objects` are another fundamental construct in\n",
    "Python programming, and programming in general.\n",
    "\n",
    "### Functions: The Building Blocks\n",
    "A function is a block of organized, reusable code that is used to perform a single,\n",
    "related action. Functions provide modularity for your application and a high degree of\n",
    "code reusing. They allow you to encapsulate a task into a single unit of work that can\n",
    "be called with different parameters to perform its operation on specific data. Functions\n",
    "are defined using the def keyword and can return results with the return statement.\n",
    "\n",
    "### Classes: Blueprint for Objects\n",
    "Classes, on the other hand, are blueprints for creating objects, allowing you to\n",
    "encapsulate data and functionality together. An object's class defines its properties\n",
    "and behaviors as attributes and methods, respectively. Methods are functions defined\n",
    "within the context of a class and are used to define the behaviors of objects created\n",
    "from the class.\n",
    "\n",
    "\n",
    "\n",
    "## Building a molecule object\n",
    "\n",
    "We will work our way up to defining a `Molecule` class to allow us to represent the data\n",
    "associated with different molecules as individual objects.\n",
    "\n",
    "First, let's start by defining a function that counts the number of atoms in a molecule.\n",
    "To represent the molecule we will use a dictionary, where the `keys` are the chemical\n",
    "symbols and the `values` are the number of atoms for that species.\n",
    "\n",
    "For instance, caffeine $C_8H_{10}N_4O_2$ would be represented as:"
   ]
  },
  {
   "cell_type": "code",
   "execution_count": null,
   "metadata": {},
   "outputs": [],
   "source": [
    "caffeine_formula = {\"C\": 8, \"H\": 10, \"N\": 4, \"O\": 2}"
   ]
  },
  {
   "cell_type": "code",
   "execution_count": null,
   "metadata": {},
   "outputs": [],
   "source": [
    "def get_number_of_atoms(chemical_formula_dict: dict) -> int:\n",
    "    \"\"\"\n",
    "    Calculates the total number of atoms from the dictionary representation of the\n",
    "    chemical formula.\n",
    "\n",
    "    For instance, caffeine is represented by: {\"C\": 8, \"H\": 10, \"N\": 4, \"O\": 2}\n",
    "\n",
    "    :param chemical_formula_dict: dict, where keys are the atomic symbols and values are\n",
    "        the number of atoms of that type.\n",
    "\n",
    "    :return: int, the total number of atoms in the chemical formula.\n",
    "    \"\"\"\n",
    "    total_number_of_atoms = 0\n",
    "    for symbol, count in chemical_formula_dict.items():\n",
    "        # Check the keys and values of the input\n",
    "        if not isinstance(symbol, str):\n",
    "            raise TypeError(\n",
    "                f\"Invalid type {type(symbol)}: atomic symbols should be passed as strings.\"\n",
    "            )\n",
    "        if not isinstance(count, int):\n",
    "            raise TypeError(\n",
    "                f\"Invalid type {type(count)}: atomic counts should be passed as integers.\"\n",
    "            )\n",
    "        if count < 0:\n",
    "            raise ValueError(\"Atomic counts should be non-negative integers.\")\n",
    "\n",
    "        # Accumulate the total number of atoms\n",
    "        total_number_of_atoms += count\n",
    "        \n",
    "    return total_number_of_atoms"
   ]
  },
  {
   "cell_type": "code",
   "execution_count": null,
   "metadata": {},
   "outputs": [],
   "source": [
    "get_number_of_atoms(caffeine_formula)"
   ]
  },
  {
   "cell_type": "markdown",
   "metadata": {},
   "source": [
    "Now let's define another function. Write a function that calculates the molecular mass\n",
    "of the molecule. Use the dictionary `atomic_masses` defined in the function below to\n",
    "access the atomic mass (in atomic units) of each element (up to Argon). Make sure to\n",
    "fill in the atomic mass of Carbon!"
   ]
  },
  {
   "cell_type": "code",
   "execution_count": null,
   "metadata": {},
   "outputs": [],
   "source": [
    "def calculate_molecular_mass(chemical_formula_dict: dict) -> float:\n",
    "    \"\"\"\n",
    "    Calculates the molecular mass of a chemical formula.\n",
    "\n",
    "    :param chemical_formula_dict: dict, where keys are the atomic symbols and values are\n",
    "        the number of atoms of that type.\n",
    "\n",
    "    :return: float, the molecular mass of the chemical formula.\n",
    "    \"\"\"\n",
    "    # Dictionary of {symbol: atomic mass} up to Argon.\n",
    "    atomic_masses = {\n",
    "        \"H\": 1.008,\n",
    "        \"He\": 4.002602,\n",
    "        \"Li\": 6.94,\n",
    "        \"Be\": 9.0121831,\n",
    "        \"B\": 10.81,\n",
    "        \"C\": 12.011,\n",
    "        \"N\": 14.007,\n",
    "        \"O\": 15.999,\n",
    "        \"F\": 18.998403163,\n",
    "        \"Ne\": 20.1797,\n",
    "        \"Na\": 22.98976928,\n",
    "        \"Mg\": 24.305,\n",
    "        \"Al\": 26.9815385,\n",
    "        \"Si\": 28.085,\n",
    "        \"P\": 30.973761998,\n",
    "        \"S\": 32.06,\n",
    "        \"Cl\": 35.45,\n",
    "        \"Ar\": 39.948,\n",
    "    }\n",
    "    molecular_mass = 0\n",
    "    for symbol, count in chemical_formula_dict.items():\n",
    "        molecular_mass += ATOMIC_MASSES[symbol] * count\n",
    "\n",
    "    return molecular_mass"
   ]
  },
  {
   "cell_type": "markdown",
   "metadata": {},
   "source": [
    "## Introduction to Chemical Classes\n",
    "\n",
    "Let's consider a class `Molecule` that represents a chemical molecule. A molecule can have\n",
    "attributes like its chemical formula, molecular weight, and a list of atoms it consists\n",
    "of. Methods of this class might include functionalities to calculate the molecular\n",
    "weight, display its structure, or simulate its behavior in a reaction.\n",
    "\n",
    "### Why use classes?\n",
    "\n",
    "* Representation: classes provide a clear and intuitive way to represent and manipulate\n",
    "  chemical entities in your code.\n",
    "* Reusability: once defined, you can create many instances of a chemical class, each\n",
    "  representing a different molecule or chemical entity, without rewriting the code.\n",
    "* Extendibility: classes can be extended to create more specific types of molecules,\n",
    "  like organic molecules or polymers, inheriting the basic properties while adding\n",
    "  unique features.\n",
    "\n",
    "\n",
    "### The interplay between functions and classes\n",
    "\n",
    "Functions and classes are related in that methods are functions defined in the context\n",
    "of classes, and both can be used to encapsulate functionality. However, they differ in\n",
    "their scope and application: functions are used for performing specific tasks and can be\n",
    "called on their own, while classes are used to create objects with their own attributes\n",
    "and methods, enabling more complex structures and behaviors in programs. Functions can\n",
    "be used to perform actions on objects created from classes, and methods (as part of\n",
    "classes) can utilize functions to implement part of their behavior, demonstrating the\n",
    "complementary nature of functions and classes in Python programming.\n",
    "\n",
    "In essence, functions give you the versatility to execute tasks and manipulate data,\n",
    "while classes allow you to model complex entities and encapsulate data and\n",
    "functionality, illustrating different but complementary facets of organizing logic and\n",
    "structure in your programs.\n",
    "\n",
    "\n",
    "### Chemcial Example: defining and using a `Molecule` class\n",
    "\n",
    "\n",
    "So, a class is a convenient way to build a single object that stores associated data. In\n",
    "our case, we can build a class called `Molecule` that calculates properties such as the\n",
    "number of atoms and molecular mass and stores them.\n",
    "\n",
    "Here's an example of defining a Molecule class and using it to create instances\n",
    "representing different molecules:"
   ]
  },
  {
   "cell_type": "code",
   "execution_count": null,
   "metadata": {},
   "outputs": [],
   "source": [
    "class Molecule:\n",
    "    \"\"\"\n",
    "    A class to represent some useful information about a molecule.\n",
    "    \"\"\"\n",
    "    def __init__(self, name: str, chemical_formula_dict: dict):\n",
    "        \"\"\"\n",
    "        Initializes a Molecule object with a name and a chemical formula.\n",
    "        \"\"\"\n",
    "        self.name = name\n",
    "        self.chemical_formula_dict = chemical_formula_dict\n",
    "        self.chemical_formula_str = self.chemical_formula_str()\n",
    "\n",
    "    def __repr__(self):\n",
    "        return f\"Molecule(name='{self.name}', formula={self.chemical_formula_str})\"\n",
    "\n",
    "    def chemical_formula_str(self) -> str:\n",
    "        \"\"\"\n",
    "        Returns a string representation of the chemical formula.\n",
    "        \"\"\"\n",
    "        formula_str = \"\"\n",
    "        for symbol, count in self.chemical_formula_dict.items():\n",
    "            formula_str += f\"{symbol}{count}\"\n",
    "        return formula_str"
   ]
  },
  {
   "cell_type": "markdown",
   "metadata": {},
   "source": [
    "And how it is used:"
   ]
  },
  {
   "cell_type": "code",
   "execution_count": null,
   "metadata": {},
   "outputs": [],
   "source": [
    "caffeine_formula = {\"C\": 8, \"H\": 10, \"N\": 4, \"O\": 2}\n",
    "\n",
    "# \"Instantiate\" a Molecule object\n",
    "caffeine_molecule = Molecule(\"Caffeine\", caffeine_formula)"
   ]
  },
  {
   "cell_type": "markdown",
   "metadata": {},
   "source": [
    "The __init__ function in Python is what's known as a special method, specifically the\n",
    "initializer for a class. It's part of Python's classes that provides a way for us to\n",
    "initialize (i.e., specify initial values for) new objects created from a class. Think of\n",
    "a class as a blueprint for creating objects; the __init__ function sets up each new\n",
    "object with its own unique data.\n",
    "\n",
    "### Key Points about `__init__`: \n",
    "\n",
    "* Initialization, Not Creation: The __init__ function is called automatically every time\n",
    "a new object of a class is created. It's important to note that __init__ does not\n",
    "actually create the object; rather, it's called after the object has been created to\n",
    "initialize its attributes. \n",
    "\n",
    "* Self Parameter: The first parameter of the __init__ function is always self, which is\n",
    "a reference to the current instance of the class. This allows you to set attributes on\n",
    "the object when it is created. \n",
    "\n",
    "* Setting Attributes: Inside the __init__ function, you can define attributes that every\n",
    "object created from the class should have and set them to specific initial values.\n",
    "\n",
    "\n",
    "Here, `__repr__` is another special function that tells Python how to textually\n",
    "represent the `Molecule` object when it is printed. In our case, it would be useful to\n",
    "see the name and formula of the molecule."
   ]
  },
  {
   "cell_type": "code",
   "execution_count": null,
   "metadata": {},
   "outputs": [],
   "source": [
    "print(caffeine_molecule)"
   ]
  },
  {
   "cell_type": "markdown",
   "metadata": {},
   "source": [
    "Now, let's take our useful ***functions*** from before and add them as ***class\n",
    "methods***. Modify the class below in the following ways:\n",
    "\n",
    "1. Copy the functions `get_number_of_atoms()`, `get_symbols()`, and\n",
    "   `calculate_molecular_mass()` below `__repr__()` in the class below. Make sure the\n",
    "   indentation is valid. The names of these methods can stay as is.\n",
    "\n",
    "2. Add the `self` argument as the first argument in each of the new class methods, as it\n",
    "   the case for `__init__` and `__repr__`. Remove the argument `chemical_formula_dict`\n",
    "   and instead, within the body of the methods, call `self.chemical_formula_dict`. This\n",
    "   accesses the `chemical_formula_dict` attribute of the class, without requiring it as\n",
    "   input to the methods.\n",
    "\n",
    "3. To the initializer `__init__` set the new attributes of the class for the number of\n",
    "   atoms and molecular mass."
   ]
  },
  {
   "cell_type": "code",
   "execution_count": null,
   "metadata": {},
   "outputs": [],
   "source": [
    "class Molecule:\n",
    "    \"\"\"\n",
    "    A class to represent some useful information about a molecule.\n",
    "    \"\"\"\n",
    "    def __init__(self, name: str, chemical_formula_dict: dict):\n",
    "        \"\"\"\n",
    "        Initializes a Molecule object with a name and a chemical formula.\n",
    "        \"\"\"\n",
    "        self.name = name\n",
    "        self.chemical_formula_dict = chemical_formula_dict\n",
    "        self.chemical_formula_str = self.chemical_formula_str()\n",
    "        # TODO 3: call the class methods to set the following class attributes\n",
    "        self.number_of_atoms = self.get_number_of_atoms()\n",
    "        self.molecular_mass = self.calculate_molecular_mass()\n",
    "\n",
    "    def __repr__(self):\n",
    "        return f\"Molecule(name='{self.name}', formula={self.chemical_formula_str})\"\n",
    "\n",
    "    def chemical_formula_str(self) -> str:\n",
    "        \"\"\"\n",
    "        Returns a string representation of the chemical formula.\n",
    "        \"\"\"\n",
    "        formula_str = \"\"\n",
    "        for symbol, count in self.chemical_formula_dict.items():\n",
    "            formula_str += f\"{symbol}{count}\"\n",
    "        return formula_str\n",
    "\n",
    "    def get_number_of_atoms(self) -> int:\n",
    "        \"\"\"\n",
    "        Calculates the total number of atoms from the dictionary representation of the\n",
    "        chemical formula.\n",
    "\n",
    "        For instance, caffeine is represented by: {\"C\": 8, \"H\": 10, \"N\": 4, \"O\": 2}\n",
    "\n",
    "        :param chemical_formula_dict: dict, where keys are the atomic symbols and values\n",
    "            are the number of atoms of that type.\n",
    "\n",
    "        :return: int, the total number of atoms in the chemical formula.\n",
    "        \"\"\"\n",
    "        total_number_of_atoms = 0\n",
    "        for symbol, count in self.chemical_formula_dict.items():\n",
    "            # Check the keys and values of the input\n",
    "            if not isinstance(symbol, str):\n",
    "                raise TypeError(\n",
    "                    f\"Invalid type {type(symbol)}: atomic symbols should be passed as strings.\"\n",
    "                )\n",
    "            if not isinstance(count, int):\n",
    "                raise TypeError(\n",
    "                    f\"Invalid type {type(count)}: atomic counts should be passed as integers.\"\n",
    "                )\n",
    "            if count < 0:\n",
    "                raise ValueError(\"Atomic counts should be non-negative integers.\")\n",
    "\n",
    "            # Accumulate the total number of atoms\n",
    "            total_number_of_atoms += count\n",
    "\n",
    "        return total_number_of_atoms\n",
    "\n",
    "    def calculate_molecular_mass(self) -> float:\n",
    "        \"\"\"\n",
    "        Calculates the molecular mass of a chemical formula.\n",
    "        \"\"\"\n",
    "        # Dictionary of {symbol: atomic mass} up to Argon\n",
    "        atomic_masses = {\n",
    "            \"H\": 1.008,\n",
    "            \"He\": 4.002602,\n",
    "            \"Li\": 6.94,\n",
    "            \"Be\": 9.0121831,\n",
    "            \"B\": 10.81,\n",
    "            \"C\": 12.011,\n",
    "            \"N\": 14.007,\n",
    "            \"O\": 15.999,\n",
    "            \"F\": 18.998403163,\n",
    "            \"Ne\": 20.1797,\n",
    "            \"Na\": 22.98976928,\n",
    "            \"Mg\": 24.305,\n",
    "            \"Al\": 26.9815385,\n",
    "            \"Si\": 28.085,\n",
    "            \"P\": 30.973761998,\n",
    "            \"S\": 32.06,\n",
    "            \"Cl\": 35.45,\n",
    "            \"Ar\": 39.948,\n",
    "        }\n",
    "        molecular_mass = 0\n",
    "        for symbol, count in self.chemical_formula_dict.items():\n",
    "            if symbol not in atomic_masses:\n",
    "                raise ValueError(\n",
    "                    f\"Invalid atomic symbol: {symbol}. Currently can only\"\n",
    "                    \" calculate the molecular mass for molecules containing\"\n",
    "                    \" atoms up to Argon (Ar).\"\n",
    "                )\n",
    "            molecular_mass += atomic_masses[symbol] * count\n",
    "\n",
    "        return molecular_mass"
   ]
  },
  {
   "cell_type": "code",
   "execution_count": null,
   "metadata": {},
   "outputs": [],
   "source": [
    "caffeine_molecule = Molecule(\"Caffeine\", {\"C\": 8, \"H\": 10, \"N\": 4, \"O\": 2})\n",
    "\n",
    "print(f\"Name: {caffeine_molecule.name}\")\n",
    "print(f\"Chemical formula: {caffeine_molecule.chemical_formula_str}\")\n",
    "print(f\"Number of atoms: {caffeine_molecule.number_of_atoms}\")\n",
    "print(f\"Molecular mass: {caffeine_molecule.molecular_mass}\")"
   ]
  },
  {
   "cell_type": "markdown",
   "metadata": {},
   "source": [
    "Defined below are the names and formulae of 10 common molecules. Within the body of the\n",
    "`for` loop write code to generate a molecule object and append it to the list."
   ]
  },
  {
   "cell_type": "code",
   "execution_count": null,
   "metadata": {},
   "outputs": [],
   "source": [
    "molecule_names_and_formula = [\n",
    "    (\"Caffeine\", {\"C\": 8, \"H\": 10, \"N\": 4, \"O\": 2}),\n",
    "    (\"Water\", {\"H\": 2, \"O\": 1}),\n",
    "    (\"Carbon Dioxide\", {\"C\": 1, \"O\": 2}),\n",
    "    (\"Glucose\", {\"C\": 6, \"H\": 12, \"O\": 6}),\n",
    "    (\"Ethanol\", {\"C\": 2, \"H\": 6, \"O\": 1}),\n",
    "    (\"Acetic Acid\", {\"C\": 2, \"H\": 4, \"O\": 2}),\n",
    "    (\"Ammonia\", {\"N\": 1, \"H\": 3}),\n",
    "    (\"Methane\", {\"C\": 1, \"H\": 4}),\n",
    "    (\"Hydrochloric Acid\", {\"H\": 1, \"Cl\": 1}),\n",
    "    (\"Nitrous Oxide\", {\"N\": 2, \"O\": 1}),\n",
    "]\n",
    "\n",
    "molecules = []\n",
    "for (name, formula) in molecule_names_and_formula:\n",
    "    molecule_object = Molecule(name, formula)\n",
    "    molecules.append(molecule_object)"
   ]
  },
  {
   "cell_type": "code",
   "execution_count": null,
   "metadata": {},
   "outputs": [],
   "source": [
    "# And finally print the information for each molecule\n",
    "for molecule in molecules:\n",
    "    print(f\"Name: {molecule.name}\")\n",
    "    print(f\"Chemical formula: {molecule.chemical_formula_str}\")\n",
    "    print(f\"Number of atoms: {molecule.number_of_atoms}\")\n",
    "    print(f\"Molecular mass: {molecule.molecular_mass}\\n\")"
   ]
  },
  {
   "cell_type": "markdown",
   "metadata": {},
   "source": [
    "And that's a wrap!\n",
    "\n",
    "Next time we'll be using what we saw today to learn:\n",
    "\n",
    "* how to organise data into `DataFrames` with `pandas`\n",
    "* how to speed up code with array operations in `numpy`\n",
    "* and how to visualize data with `matplotlib`!"
   ]
  }
 ],
 "metadata": {
  "kernelspec": {
   "display_name": "ppchem",
   "language": "python",
   "name": "python3"
  },
  "language_info": {
   "codemirror_mode": {
    "name": "ipython",
    "version": 3
   },
   "file_extension": ".py",
   "mimetype": "text/x-python",
   "name": "python",
   "nbconvert_exporter": "python",
   "pygments_lexer": "ipython3",
   "version": "3.10.13"
  }
 },
 "nbformat": 4,
 "nbformat_minor": 2
}
